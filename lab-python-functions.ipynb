{
 "cells": [
  {
   "cell_type": "markdown",
   "id": "25d7736c-ba17-4aff-b6bb-66eba20fbf4e",
   "metadata": {},
   "source": [
    "# Lab | Functions"
   ]
  },
  {
   "cell_type": "markdown",
   "id": "0c581062-8967-4d93-b06e-62833222f930",
   "metadata": {
    "tags": []
   },
   "source": [
    "## Exercise: Managing Customer Orders with Functions\n",
    "\n",
    "In the previous exercise, you improved the code for managing customer orders by using loops and flow control. Now, let's take it a step further and refactor the code by introducing functions.\n",
    "\n",
    "Follow the steps below to complete the exercise:\n",
    "\n",
    "1. Define a function named `initialize_inventory` that takes `products` as a parameter. Inside the function, implement the code for initializing the inventory dictionary using a loop and user input.\n",
    "\n",
    "2. Define a function named `get_customer_orders` that takes no parameters. Inside the function, implement the code for prompting the user to enter the product names using a loop. The function should return the `customer_orders` set.\n",
    "\n",
    "3. Define a function named `update_inventory` that takes `customer_orders` and `inventory` as parameters. Inside the function, implement the code for updating the inventory dictionary based on the customer orders.\n",
    "\n",
    "4. Define a function named `calculate_order_statistics` that takes `customer_orders` and `products` as parameters. Inside the function, implement the code for calculating the order statistics (total products ordered, and percentage of unique products ordered). The function should return these values.\n",
    "\n",
    "5. Define a function named `print_order_statistics` that takes `order_statistics` as a parameter. Inside the function, implement the code for printing the order statistics.\n",
    "\n",
    "6. Define a function named `print_updated_inventory` that takes `inventory` as a parameter. Inside the function, implement the code for printing the updated inventory.\n",
    "\n",
    "7. Call the functions in the appropriate sequence to execute the program and manage customer orders.\n",
    "\n",
    "Hints for functions:\n",
    "\n",
    "- Consider the input parameters required for each function and their return values.\n",
    "- Utilize function parameters and return values to transfer data between functions.\n",
    "- Test your functions individually to ensure they work correctly.\n",
    "\n",
    "\n"
   ]
  },
  {
   "cell_type": "code",
   "execution_count": 2,
   "id": "26c31964",
   "metadata": {},
   "outputs": [
    {
     "data": {
      "text/plain": [
       "{'t-shirt': 4, 'mug': 5, 'hat': 6, 'book': 7, 'keychain': 8}"
      ]
     },
     "execution_count": 2,
     "metadata": {},
     "output_type": "execute_result"
    }
   ],
   "source": [
    "products=[\"t-shirt\", \"mug\", \"hat\", \"book\", \"keychain\"]\n",
    "\n",
    "def initialize_inventory(products):\n",
    "    inventory={}\n",
    "    for product in products:\n",
    "        inventory[product]=int(input(f'enter the number of {product} on stock'))\n",
    "    return inventory\n",
    "\n",
    "initialize_inventory(products)"
   ]
  },
  {
   "cell_type": "code",
   "execution_count": 3,
   "id": "44dfdf30",
   "metadata": {},
   "outputs": [
    {
     "name": "stdout",
     "output_type": "stream",
     "text": [
      "{'t-shirt': 4, 'mug': 5, 'hat': 6, 'book': 7, 'keychain': 8}\n"
     ]
    }
   ],
   "source": [
    "# code modified with a condition for handling input errors\n",
    "\n",
    "products = [\"t-shirt\", \"mug\", \"hat\", \"book\", \"keychain\"]\n",
    "\n",
    "def initialize_inventory(products):\n",
    "    inventory = {}\n",
    "    for product in products:\n",
    "        while True:\n",
    "            quantity_not_clean = input(f'Please enter the quantity of {product}s in stock: ').strip()\n",
    "            if quantity_not_clean.isdigit():\n",
    "                quantity = int(quantity_not_clean)\n",
    "                inventory[product] = quantity\n",
    "                break\n",
    "            else:\n",
    "                print(f'Incorrect input. Please enter an integer number as quantity for {product}s in stock.')\n",
    "            \n",
    "    return inventory\n",
    "\n",
    "inventory=initialize_inventory(products)\n",
    "print(inventory)\n"
   ]
  },
  {
   "cell_type": "code",
   "execution_count": 4,
   "id": "c0c2ca87",
   "metadata": {},
   "outputs": [
    {
     "name": "stdout",
     "output_type": "stream",
     "text": [
      "Thank you for your order!\n",
      "{('mug', 3), ('hat', 1)}\n"
     ]
    }
   ],
   "source": [
    "products = [\"t-shirt\", \"mug\", \"hat\", \"book\", \"keychain\"]\n",
    "\n",
    "def get_customer_orders():\n",
    "    \n",
    "    customer_orders=set()\n",
    "\n",
    "    while True:\n",
    "        order_request=input('Dear customer, you are about to order one product in stock. Do you want to enter an order? Yes or No')\n",
    "        \n",
    "        if order_request.lower()=='no':\n",
    "            print('Thank you for your order!')\n",
    "            break\n",
    "        \n",
    "        elif order_request.lower()=='yes':\n",
    "            ordered_product=input(f'Dear customer, at the moment following products are available: {\", \".join(products)}. What product do you want to order from the items available?')     \n",
    "            \n",
    "            if ordered_product in products:\n",
    "                quantity_ordered=int(input(f'how many pieces of {ordered_product} do you wish to order'))    \n",
    "                customer_orders.add((ordered_product, quantity_ordered))\n",
    "                \n",
    "            else:\n",
    "                print('This is not an item available on stock. Please order one from the items available')\n",
    "    return customer_orders\n",
    "\n",
    "customer_orders=get_customer_orders()\n",
    "print(customer_orders)"
   ]
  },
  {
   "cell_type": "code",
   "execution_count": 5,
   "id": "3251b423",
   "metadata": {},
   "outputs": [
    {
     "name": "stdout",
     "output_type": "stream",
     "text": [
      "{'t-shirt': 4, 'mug': 5, 'hat': 6, 'book': 7, 'keychain': 8}\n",
      "{'t-shirt': 4, 'mug': 2, 'hat': 5, 'book': 7, 'keychain': 8}\n"
     ]
    }
   ],
   "source": [
    "print(inventory)\n",
    "\n",
    "def update_inventory(customer_orders, inventory):\n",
    "    updated_inventory = inventory.copy()\n",
    "    for product, quantity in customer_orders:   \n",
    "        updated_inventory[product] -= quantity\n",
    "    return updated_inventory\n",
    "\n",
    "updated_inventory=update_inventory(customer_orders, inventory)\n",
    "print(updated_inventory)\n",
    "        "
   ]
  },
  {
   "cell_type": "code",
   "execution_count": 6,
   "id": "2704bd5e",
   "metadata": {},
   "outputs": [
    {
     "name": "stdout",
     "output_type": "stream",
     "text": [
      "(4, {'mug': 60.0, 'hat': 16.67})\n"
     ]
    }
   ],
   "source": [
    "\n",
    "def calculate_order_statistics(customer_orders, products):\n",
    "    # the function should return total_products_ordered and percentage_unique_product_ordered\n",
    "    percentage_every_product_ordered = {}\n",
    "    total_products_ordered = 0\n",
    "\n",
    "    for product, quantity in customer_orders:\n",
    "        total_products_ordered += quantity\n",
    "        percentage_product_ordered = (quantity/inventory[product])*100\n",
    "        percentage_every_product_ordered[product]=round(percentage_product_ordered, 2)\n",
    "\n",
    "    return total_products_ordered, percentage_every_product_ordered\n",
    "\n",
    "calculate_order_statistics(customer_orders, products)\n",
    "order_statistics = calculate_order_statistics(customer_orders, products)\n",
    "print(order_statistics)"
   ]
  },
  {
   "cell_type": "code",
   "execution_count": 23,
   "id": "1b5815eb",
   "metadata": {},
   "outputs": [
    {
     "name": "stdout",
     "output_type": "stream",
     "text": [
      "Order statistics: \n",
      "Total Products Ordered: 4\n",
      "Percentage of mug ordered: 60.0%\n",
      "Percentage of hat ordered: 16.67%\n"
     ]
    }
   ],
   "source": [
    "def print_order_statistics(order_statistics):\n",
    "    total_products_ordered = order_statistics[0]\n",
    "    percentage_every_product_ordered = order_statistics[1]\n",
    "    print(f'Order statistics: ')\n",
    "    print(f'Total Products Ordered: {total_products_ordered}')\n",
    "    for product, percentage in percentage_every_product_ordered.items():\n",
    "        print(f'Percentage of {product} ordered: {percentage}%')\n",
    "\n",
    "print_order_statistics(order_statistics)"
   ]
  },
  {
   "cell_type": "code",
   "execution_count": 10,
   "id": "849df58e",
   "metadata": {},
   "outputs": [
    {
     "name": "stdout",
     "output_type": "stream",
     "text": [
      "The updated inventory is now as follows:\n",
      "t-shirt: 55\n",
      "mug: 50\n",
      "hat: 55\n",
      "book: 55\n",
      "keychain: 55\n"
     ]
    }
   ],
   "source": [
    "#Print the updated inventory, displaying the quantity of each product on separate lines\n",
    "def print_updated_inventory(inventory):\n",
    "    update_inventory(customer_orders, inventory)\n",
    "    print('The updated inventory is now as follows:')\n",
    "    for product, quantity in updated_inventory.items():\n",
    "        print(f'{product}: {quantity}')\n",
    "\n",
    "print_updated_inventory(inventory)"
   ]
  }
 ],
 "metadata": {
  "kernelspec": {
   "display_name": "Python 3 (ipykernel)",
   "language": "python",
   "name": "python3"
  },
  "language_info": {
   "codemirror_mode": {
    "name": "ipython",
    "version": 3
   },
   "file_extension": ".py",
   "mimetype": "text/x-python",
   "name": "python",
   "nbconvert_exporter": "python",
   "pygments_lexer": "ipython3",
   "version": "3.11.4"
  }
 },
 "nbformat": 4,
 "nbformat_minor": 5
}
